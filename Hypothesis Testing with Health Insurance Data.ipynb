{
 "cells": [
  {
   "cell_type": "markdown",
   "id": "dbfd5ae1",
   "metadata": {},
   "source": [
    "# Hypothesis Testing with Health Insurance Data\n",
    "\n",
    "- Kevin Barnett\n",
    "- 05/12/23"
   ]
  },
  {
   "cell_type": "markdown",
   "id": "1341d14a",
   "metadata": {},
   "source": [
    "## Tasks\n",
    "\n",
    "We have been asked to use our hypothesis testing skills to answer the following questions:\n",
    "\n",
    "- Q1. Do smokers have higher insurance charges than non-smokers?\n",
    "- Q2. Are men more likely to smoke than women?\n",
    "- Q3. Do different regions have different charges, on average?\n",
    "\n",
    "\n",
    "\n",
    "For each question, make sure to:\n",
    "\n",
    "- State your Null Hypothesis and Alternative Hypothesis\n",
    "- Select the correct test according to the data type and number of samples\n",
    "- Test the assumptions of your selected test.\n",
    "- Execute the selected test, or the alternative test (if you do not meet the assumptions)\n",
    "- Interpret your p-value and reject or fail to reject your null hypothesis \n",
    "- Show a supporting visualization that helps display the result\n",
    "\n",
    "> alpha = 0.05"
   ]
  },
  {
   "cell_type": "code",
   "execution_count": 1,
   "id": "49d74c11",
   "metadata": {},
   "outputs": [],
   "source": [
    "# Imports\n",
    "import pandas as pd\n",
    "import numpy as np\n",
    "import matplotlib.pyplot as plt\n",
    "import seaborn as sns\n",
    "import scipy.stats as stats"
   ]
  },
  {
   "cell_type": "code",
   "execution_count": 2,
   "id": "0af3e3d4",
   "metadata": {},
   "outputs": [
    {
     "name": "stdout",
     "output_type": "stream",
     "text": [
      "<class 'pandas.core.frame.DataFrame'>\n",
      "RangeIndex: 1338 entries, 0 to 1337\n",
      "Data columns (total 7 columns):\n",
      " #   Column    Non-Null Count  Dtype  \n",
      "---  ------    --------------  -----  \n",
      " 0   age       1338 non-null   int64  \n",
      " 1   sex       1338 non-null   object \n",
      " 2   bmi       1338 non-null   float64\n",
      " 3   children  1338 non-null   int64  \n",
      " 4   smoker    1338 non-null   object \n",
      " 5   region    1338 non-null   object \n",
      " 6   charges   1338 non-null   float64\n",
      "dtypes: float64(2), int64(2), object(3)\n",
      "memory usage: 73.3+ KB\n"
     ]
    },
    {
     "data": {
      "text/html": [
       "<div>\n",
       "<style scoped>\n",
       "    .dataframe tbody tr th:only-of-type {\n",
       "        vertical-align: middle;\n",
       "    }\n",
       "\n",
       "    .dataframe tbody tr th {\n",
       "        vertical-align: top;\n",
       "    }\n",
       "\n",
       "    .dataframe thead th {\n",
       "        text-align: right;\n",
       "    }\n",
       "</style>\n",
       "<table border=\"1\" class=\"dataframe\">\n",
       "  <thead>\n",
       "    <tr style=\"text-align: right;\">\n",
       "      <th></th>\n",
       "      <th>age</th>\n",
       "      <th>sex</th>\n",
       "      <th>bmi</th>\n",
       "      <th>children</th>\n",
       "      <th>smoker</th>\n",
       "      <th>region</th>\n",
       "      <th>charges</th>\n",
       "    </tr>\n",
       "  </thead>\n",
       "  <tbody>\n",
       "    <tr>\n",
       "      <th>0</th>\n",
       "      <td>19</td>\n",
       "      <td>female</td>\n",
       "      <td>27.900</td>\n",
       "      <td>0</td>\n",
       "      <td>yes</td>\n",
       "      <td>southwest</td>\n",
       "      <td>16884.92400</td>\n",
       "    </tr>\n",
       "    <tr>\n",
       "      <th>1</th>\n",
       "      <td>18</td>\n",
       "      <td>male</td>\n",
       "      <td>33.770</td>\n",
       "      <td>1</td>\n",
       "      <td>no</td>\n",
       "      <td>southeast</td>\n",
       "      <td>1725.55230</td>\n",
       "    </tr>\n",
       "    <tr>\n",
       "      <th>2</th>\n",
       "      <td>28</td>\n",
       "      <td>male</td>\n",
       "      <td>33.000</td>\n",
       "      <td>3</td>\n",
       "      <td>no</td>\n",
       "      <td>southeast</td>\n",
       "      <td>4449.46200</td>\n",
       "    </tr>\n",
       "    <tr>\n",
       "      <th>3</th>\n",
       "      <td>33</td>\n",
       "      <td>male</td>\n",
       "      <td>22.705</td>\n",
       "      <td>0</td>\n",
       "      <td>no</td>\n",
       "      <td>northwest</td>\n",
       "      <td>21984.47061</td>\n",
       "    </tr>\n",
       "    <tr>\n",
       "      <th>4</th>\n",
       "      <td>32</td>\n",
       "      <td>male</td>\n",
       "      <td>28.880</td>\n",
       "      <td>0</td>\n",
       "      <td>no</td>\n",
       "      <td>northwest</td>\n",
       "      <td>3866.85520</td>\n",
       "    </tr>\n",
       "  </tbody>\n",
       "</table>\n",
       "</div>"
      ],
      "text/plain": [
       "   age     sex     bmi  children smoker     region      charges\n",
       "0   19  female  27.900         0    yes  southwest  16884.92400\n",
       "1   18    male  33.770         1     no  southeast   1725.55230\n",
       "2   28    male  33.000         3     no  southeast   4449.46200\n",
       "3   33    male  22.705         0     no  northwest  21984.47061\n",
       "4   32    male  28.880         0     no  northwest   3866.85520"
      ]
     },
     "execution_count": 2,
     "metadata": {},
     "output_type": "execute_result"
    }
   ],
   "source": [
    "# Load data\n",
    "df = pd.read_csv('/Users/kevinbarnett/Documents/GitHub/Hypothesis-Testing-with-Health-Insurance-Data-Core-Assignment/insurance - insurance.csv')\n",
    "df.info()\n",
    "df.head()"
   ]
  },
  {
   "cell_type": "markdown",
   "id": "3945031e",
   "metadata": {},
   "source": [
    "## Question 1: Do smokers have higher insurance charges than non-smokers?"
   ]
  },
  {
   "cell_type": "markdown",
   "id": "ad66cfff",
   "metadata": {},
   "source": [
    "> Null Hypothesis: There is no difference in insurance charges between smokers and non-smokers\n",
    "\n",
    "> Alternative Hypothesis: There is a difference in insurance charges between smokers and non-smokers"
   ]
  },
  {
   "cell_type": "code",
   "execution_count": 3,
   "id": "95d8234e",
   "metadata": {},
   "outputs": [
    {
     "data": {
      "text/plain": [
       "no     1064\n",
       "yes     274\n",
       "Name: smoker, dtype: int64"
      ]
     },
     "execution_count": 3,
     "metadata": {},
     "output_type": "execute_result"
    }
   ],
   "source": [
    "# Determine how many people are in each group\n",
    "df['smoker'].value_counts()"
   ]
  },
  {
   "cell_type": "code",
   "execution_count": 4,
   "id": "207a9e86",
   "metadata": {},
   "outputs": [
    {
     "name": "stdout",
     "output_type": "stream",
     "text": [
      "    age     sex    bmi  children smoker     region     charges\n",
      "0    19  female  27.90         0    yes  southwest  16884.9240\n",
      "11   62  female  26.29         0    yes  southeast  27808.7251\n",
      "14   27    male  42.13         0    yes  southeast  39611.7577\n",
      "19   30    male  35.30         0    yes  southwest  36837.4670\n",
      "23   34  female  31.92         1    yes  northeast  37701.8768\n"
     ]
    },
    {
     "data": {
      "text/html": [
       "<div>\n",
       "<style scoped>\n",
       "    .dataframe tbody tr th:only-of-type {\n",
       "        vertical-align: middle;\n",
       "    }\n",
       "\n",
       "    .dataframe tbody tr th {\n",
       "        vertical-align: top;\n",
       "    }\n",
       "\n",
       "    .dataframe thead th {\n",
       "        text-align: right;\n",
       "    }\n",
       "</style>\n",
       "<table border=\"1\" class=\"dataframe\">\n",
       "  <thead>\n",
       "    <tr style=\"text-align: right;\">\n",
       "      <th></th>\n",
       "      <th>age</th>\n",
       "      <th>sex</th>\n",
       "      <th>bmi</th>\n",
       "      <th>children</th>\n",
       "      <th>smoker</th>\n",
       "      <th>region</th>\n",
       "      <th>charges</th>\n",
       "    </tr>\n",
       "  </thead>\n",
       "  <tbody>\n",
       "    <tr>\n",
       "      <th>1</th>\n",
       "      <td>18</td>\n",
       "      <td>male</td>\n",
       "      <td>33.770</td>\n",
       "      <td>1</td>\n",
       "      <td>no</td>\n",
       "      <td>southeast</td>\n",
       "      <td>1725.55230</td>\n",
       "    </tr>\n",
       "    <tr>\n",
       "      <th>2</th>\n",
       "      <td>28</td>\n",
       "      <td>male</td>\n",
       "      <td>33.000</td>\n",
       "      <td>3</td>\n",
       "      <td>no</td>\n",
       "      <td>southeast</td>\n",
       "      <td>4449.46200</td>\n",
       "    </tr>\n",
       "    <tr>\n",
       "      <th>3</th>\n",
       "      <td>33</td>\n",
       "      <td>male</td>\n",
       "      <td>22.705</td>\n",
       "      <td>0</td>\n",
       "      <td>no</td>\n",
       "      <td>northwest</td>\n",
       "      <td>21984.47061</td>\n",
       "    </tr>\n",
       "    <tr>\n",
       "      <th>4</th>\n",
       "      <td>32</td>\n",
       "      <td>male</td>\n",
       "      <td>28.880</td>\n",
       "      <td>0</td>\n",
       "      <td>no</td>\n",
       "      <td>northwest</td>\n",
       "      <td>3866.85520</td>\n",
       "    </tr>\n",
       "    <tr>\n",
       "      <th>5</th>\n",
       "      <td>31</td>\n",
       "      <td>female</td>\n",
       "      <td>25.740</td>\n",
       "      <td>0</td>\n",
       "      <td>no</td>\n",
       "      <td>southeast</td>\n",
       "      <td>3756.62160</td>\n",
       "    </tr>\n",
       "  </tbody>\n",
       "</table>\n",
       "</div>"
      ],
      "text/plain": [
       "   age     sex     bmi  children smoker     region      charges\n",
       "1   18    male  33.770         1     no  southeast   1725.55230\n",
       "2   28    male  33.000         3     no  southeast   4449.46200\n",
       "3   33    male  22.705         0     no  northwest  21984.47061\n",
       "4   32    male  28.880         0     no  northwest   3866.85520\n",
       "5   31  female  25.740         0     no  southeast   3756.62160"
      ]
     },
     "execution_count": 4,
     "metadata": {},
     "output_type": "execute_result"
    }
   ],
   "source": [
    "# Split into two groups\n",
    "smokers_df = df.loc[df['smoker'] == 'yes'].copy()\n",
    "non_smokers_df = df.loc[df['smoker'] == 'no'].copy()\n",
    "print(smokers_df.head())\n",
    "non_smokers_df.head()"
   ]
  },
  {
   "cell_type": "code",
   "execution_count": 26,
   "id": "fc703565",
   "metadata": {},
   "outputs": [
    {
     "data": {
      "text/plain": [
       "0     16884.9240\n",
       "11    27808.7251\n",
       "14    39611.7577\n",
       "19    36837.4670\n",
       "23    37701.8768\n",
       "Name: charges, dtype: float64"
      ]
     },
     "execution_count": 26,
     "metadata": {},
     "output_type": "execute_result"
    }
   ],
   "source": [
    "# Define feature of interest\n",
    "smoker_charges = smokers_df['charges']\n",
    "non_smoker_charges = non_smokers_df['charges']"
   ]
  },
  {
   "cell_type": "code",
   "execution_count": 6,
   "id": "da40cec4",
   "metadata": {},
   "outputs": [
    {
     "name": "stdout",
     "output_type": "stream",
     "text": [
      "Avg charge for smokers: 32050.23183153284\n",
      "Avg charge for non smokers: 8434.268297856204\n"
     ]
    }
   ],
   "source": [
    "# Find mean for each group\n",
    "smoker_charges_mean = smoker_charges.mean()\n",
    "print(f'Avg charge for smokers: {smoker_charges_mean}')\n",
    "non_smoker_charges_mean = non_smoker_charges.mean()\n",
    "print(f'Avg charge for non smokers: {non_smoker_charges_mean}')"
   ]
  },
  {
   "cell_type": "code",
   "execution_count": 7,
   "id": "07757989",
   "metadata": {},
   "outputs": [
    {
     "data": {
      "image/png": "[encoded data removed]",
      "text/plain": [
       "<Figure size 1200x600 with 2 Axes>"
      ]
     },
     "metadata": {},
     "output_type": "display_data"
    }
   ],
   "source": [
    "# Visualize distribution of each group\n",
    "smoker_palette = {'no':'dodgerblue','yes':'salmon'}\n",
    "fig, (ax,ax_bar) = plt.subplots(figsize=(12,6), ncols=2, \n",
    "                                gridspec_kw={'width_ratios':[0.8,0.2]})\n",
    "\n",
    "# Histogram of distributions\n",
    "sns.histplot(df, x='charges', hue='smoker', stat='density', kde=True, \n",
    "             common_norm=False, ax=ax, palette=smoker_palette)\n",
    "ax.ticklabel_format(style='plain', axis='y')\n",
    "ax.axvline(smoker_charges_mean, c=smoker_palette['yes'], ls='--', lw=2,\n",
    "          label=f'Smokers (Mean: {smoker_charges_mean:.2f})')\n",
    "ax.axvline(non_smoker_charges_mean, c=smoker_palette['no'], ls='--', lw=2,\n",
    "          label=f'Non-Smokers (Mean: {non_smoker_charges_mean:.2f})')\n",
    "ax.legend();\n",
    "\n",
    "# Barplot\n",
    "sns.barplot(data=df, x='smoker', y='charges', ax=ax_bar, palette=smoker_palette)\n",
    "fig.suptitle('Comparison of Insurance Charges by Smoker vs Non-Smoker',\n",
    "            fontsize='xx-large');"
   ]
  },
  {
   "cell_type": "code",
   "execution_count": 8,
   "id": "82c17e3b",
   "metadata": {},
   "outputs": [
    {
     "name": "stdout",
     "output_type": "stream",
     "text": [
      "Num sig outliers for smokers: 0\n",
      "Num sig outliers for non-smokers: 24\n"
     ]
    }
   ],
   "source": [
    "# Test for significant outliers\n",
    "smoker_zscores = stats.zscore(smoker_charges)\n",
    "smoker_outliers = abs(smoker_zscores)>3\n",
    "non_smoker_zscores = stats.zscore(non_smoker_charges)\n",
    "non_smoker_outliers = abs(non_smoker_zscores)>3\n",
    "\n",
    "print(f'Num sig outliers for smokers: {np.sum(smoker_outliers)}')\n",
    "print(f'Num sig outliers for non-smokers: {np.sum(non_smoker_outliers)}')"
   ]
  },
  {
   "cell_type": "code",
   "execution_count": 9,
   "id": "762a4372",
   "metadata": {},
   "outputs": [
    {
     "name": "stdout",
     "output_type": "stream",
     "text": [
      "Num sig outliers for non-smokers: 19\n"
     ]
    }
   ],
   "source": [
    "# Remove outliers in the non-smoker group\n",
    "non_smoker_charges = non_smoker_charges[(np.abs(stats.zscore(non_smoker_charges))<3)] \n",
    "non_smoker_zscores = stats.zscore(non_smoker_charges)\n",
    "non_smoker_outliers = abs(non_smoker_zscores)>3\n",
    "\n",
    "print(f'Num sig outliers for non-smokers: {np.sum(non_smoker_outliers)}')"
   ]
  },
  {
   "cell_type": "code",
   "execution_count": 10,
   "id": "0956fde4",
   "metadata": {},
   "outputs": [
    {
     "name": "stdout",
     "output_type": "stream",
     "text": [
      "Smokers: NormaltestResult(statistic=61.03941356533816, pvalue=5.564930630036463e-14)\n",
      "Non-Smokers: NormaltestResult(statistic=163.80367047789198, pvalue=2.6945416315543976e-36)\n"
     ]
    }
   ],
   "source": [
    "# Test for normality\n",
    "result_smoker = stats.normaltest(smoker_charges)\n",
    "result_non_smoker = stats.normaltest(non_smoker_charges)\n",
    "\n",
    "print(f'Smokers: {result_smoker}')\n",
    "print(f'Non-Smokers: {result_non_smoker}')"
   ]
  },
  {
   "cell_type": "markdown",
   "id": "953d1a32",
   "metadata": {},
   "source": [
    "> Both groups are not normally distributed. We can continue since each group has a sample of more than 15"
   ]
  },
  {
   "cell_type": "code",
   "execution_count": 11,
   "id": "bf4accbf",
   "metadata": {},
   "outputs": [
    {
     "data": {
      "text/plain": [
       "LeveneResult(statistic=520.7468821724297, pvalue=2.4247238784347824e-97)"
      ]
     },
     "execution_count": 11,
     "metadata": {},
     "output_type": "execute_result"
    }
   ],
   "source": [
    "# Test for equal variance\n",
    "var_result = stats.levene(smoker_charges, non_smoker_charges)\n",
    "var_result"
   ]
  },
  {
   "cell_type": "markdown",
   "id": "fd270ece",
   "metadata": {},
   "source": [
    "> There is not equal variance between each group"
   ]
  },
  {
   "cell_type": "code",
   "execution_count": 12,
   "id": "60fb51de",
   "metadata": {},
   "outputs": [
    {
     "data": {
      "text/plain": [
       "Ttest_indResult(statistic=-33.732305987092516, pvalue=2.575322662587431e-104)"
      ]
     },
     "execution_count": 12,
     "metadata": {},
     "output_type": "execute_result"
    }
   ],
   "source": [
    "# Independent t-test\n",
    "ttest_result = stats.ttest_ind(non_smoker_charges, smoker_charges, \n",
    "                              equal_var=False)\n",
    "ttest_result"
   ]
  },
  {
   "cell_type": "markdown",
   "id": "45e6a3db",
   "metadata": {},
   "source": [
    "> The pvalue is < 0.05 so we can reject the null hypothesis and accept that smokers have higher insurance charges than non-smokers"
   ]
  },
  {
   "cell_type": "markdown",
   "id": "a4e746fb",
   "metadata": {},
   "source": [
    "## Question 2: Are men more likely to smoke than women?"
   ]
  },
  {
   "cell_type": "markdown",
   "id": "2b2f766d",
   "metadata": {},
   "source": [
    "> Null Hypothesis: Men are not more likely to smoke than women\n",
    "\n",
    "> Alternative Hypothesis: Men are more likely to smoke than women"
   ]
  },
  {
   "cell_type": "code",
   "execution_count": 13,
   "id": "a942f491",
   "metadata": {},
   "outputs": [
    {
     "name": "stdout",
     "output_type": "stream",
     "text": [
      "<class 'pandas.core.frame.DataFrame'>\n",
      "RangeIndex: 1338 entries, 0 to 1337\n",
      "Data columns (total 7 columns):\n",
      " #   Column    Non-Null Count  Dtype  \n",
      "---  ------    --------------  -----  \n",
      " 0   age       1338 non-null   int64  \n",
      " 1   sex       1338 non-null   object \n",
      " 2   bmi       1338 non-null   float64\n",
      " 3   children  1338 non-null   int64  \n",
      " 4   smoker    1338 non-null   object \n",
      " 5   region    1338 non-null   object \n",
      " 6   charges   1338 non-null   float64\n",
      "dtypes: float64(2), int64(2), object(3)\n",
      "memory usage: 73.3+ KB\n"
     ]
    }
   ],
   "source": [
    "df.info()"
   ]
  },
  {
   "cell_type": "code",
   "execution_count": 14,
   "id": "0c2d55ae",
   "metadata": {},
   "outputs": [],
   "source": [
    "# Contingency table\n",
    "table = pd.crosstab(index=df['sex'], columns=df['smoker'])"
   ]
  },
  {
   "cell_type": "code",
   "execution_count": 15,
   "id": "059fd455",
   "metadata": {},
   "outputs": [
    {
     "data": {
      "image/png": "[encoded data removed]",
      "text/plain": [
       "<Figure size 640x480 with 1 Axes>"
      ]
     },
     "metadata": {},
     "output_type": "display_data"
    }
   ],
   "source": [
    "# Visualize smoker vs non-smoker by sex\n",
    "ax = sns.countplot(data=df, x='sex', hue='smoker');\n",
    "ax.set_title('Number of Smokers vs Non-Smokers by Sex');"
   ]
  },
  {
   "cell_type": "code",
   "execution_count": 16,
   "id": "0fd39206",
   "metadata": {},
   "outputs": [
    {
     "name": "stdout",
     "output_type": "stream",
     "text": [
      "0.006548143503580696\n"
     ]
    },
    {
     "data": {
      "text/plain": [
       "True"
      ]
     },
     "execution_count": 16,
     "metadata": {},
     "output_type": "execute_result"
    }
   ],
   "source": [
    "# Chi-squared test\n",
    "chi_result = stats.chi2_contingency(table)\n",
    "\n",
    "# Label results\n",
    "chi2, p, deg_free, expected_vals = chi_result\n",
    "print(p)\n",
    "p<0.05"
   ]
  },
  {
   "cell_type": "markdown",
   "id": "46f24894",
   "metadata": {},
   "source": [
    "> The pvalue is < 0.05 so we can reject the null and conclude that men are more likely to smoke than women"
   ]
  },
  {
   "cell_type": "markdown",
   "id": "b7d7c298",
   "metadata": {},
   "source": [
    "## Question 3: Do different regions have different charges, on average?\n",
    "\n",
    "> Null Hypothesis: Different regions have the same charges on average\n",
    "\n",
    "> Alternate Hypothesis: Different regions have a significant difference in charges on average"
   ]
  },
  {
   "cell_type": "code",
   "execution_count": 17,
   "id": "c7ebe19d",
   "metadata": {},
   "outputs": [
    {
     "name": "stdout",
     "output_type": "stream",
     "text": [
      "<class 'pandas.core.frame.DataFrame'>\n",
      "RangeIndex: 1338 entries, 0 to 1337\n",
      "Data columns (total 7 columns):\n",
      " #   Column    Non-Null Count  Dtype  \n",
      "---  ------    --------------  -----  \n",
      " 0   age       1338 non-null   int64  \n",
      " 1   sex       1338 non-null   object \n",
      " 2   bmi       1338 non-null   float64\n",
      " 3   children  1338 non-null   int64  \n",
      " 4   smoker    1338 non-null   object \n",
      " 5   region    1338 non-null   object \n",
      " 6   charges   1338 non-null   float64\n",
      "dtypes: float64(2), int64(2), object(3)\n",
      "memory usage: 73.3+ KB\n"
     ]
    }
   ],
   "source": [
    "df.info()"
   ]
  },
  {
   "cell_type": "code",
   "execution_count": 18,
   "id": "2234a5a2",
   "metadata": {},
   "outputs": [
    {
     "data": {
      "text/plain": [
       "southeast    364\n",
       "southwest    325\n",
       "northwest    325\n",
       "northeast    324\n",
       "Name: region, dtype: int64"
      ]
     },
     "execution_count": 18,
     "metadata": {},
     "output_type": "execute_result"
    }
   ],
   "source": [
    "df['region'].value_counts()"
   ]
  },
  {
   "cell_type": "code",
   "execution_count": 19,
   "id": "2d17b5c0",
   "metadata": {},
   "outputs": [
    {
     "data": {
      "image/png": "[encoded data removed]",
      "text/plain": [
       "<Figure size 640x480 with 1 Axes>"
      ]
     },
     "metadata": {},
     "output_type": "display_data"
    }
   ],
   "source": [
    "sns.barplot(data=df, x='region', y='charges');"
   ]
  },
  {
   "cell_type": "code",
   "execution_count": 20,
   "id": "1527868d",
   "metadata": {},
   "outputs": [
    {
     "data": {
      "text/plain": [
       "dict_keys(['southwest', 'southeast', 'northwest', 'northeast'])"
      ]
     },
     "execution_count": 20,
     "metadata": {},
     "output_type": "execute_result"
    }
   ],
   "source": [
    "# Create groups dictionary\n",
    "# Empty dictionary\n",
    "groups = {}\n",
    "\n",
    "# For loop to iterate through dataframe to assign regions to keys and \n",
    "# charges to values\n",
    "for i in df['region'].unique():\n",
    "    \n",
    "    # Get series for group and rename\n",
    "    data = df.loc[df['region'] == i, 'charges'].copy()\n",
    "    \n",
    "    # Save into dictionary\n",
    "    groups[i] = data\n",
    "groups.keys()"
   ]
  },
  {
   "cell_type": "code",
   "execution_count": 21,
   "id": "44f9be02",
   "metadata": {},
   "outputs": [
    {
     "data": {
      "text/html": [
       "<div>\n",
       "<style scoped>\n",
       "    .dataframe tbody tr th:only-of-type {\n",
       "        vertical-align: middle;\n",
       "    }\n",
       "\n",
       "    .dataframe tbody tr th {\n",
       "        vertical-align: top;\n",
       "    }\n",
       "\n",
       "    .dataframe thead th {\n",
       "        text-align: right;\n",
       "    }\n",
       "</style>\n",
       "<table border=\"1\" class=\"dataframe\">\n",
       "  <thead>\n",
       "    <tr style=\"text-align: right;\">\n",
       "      <th></th>\n",
       "      <th>n</th>\n",
       "      <th>p</th>\n",
       "      <th>test stat</th>\n",
       "    </tr>\n",
       "  </thead>\n",
       "  <tbody>\n",
       "    <tr>\n",
       "      <th>southwest</th>\n",
       "      <td>325.0</td>\n",
       "      <td>6.125298e-23</td>\n",
       "      <td>102.294059</td>\n",
       "    </tr>\n",
       "    <tr>\n",
       "      <th>southeast</th>\n",
       "      <td>364.0</td>\n",
       "      <td>4.953297e-15</td>\n",
       "      <td>65.877446</td>\n",
       "    </tr>\n",
       "    <tr>\n",
       "      <th>northwest</th>\n",
       "      <td>325.0</td>\n",
       "      <td>5.184209e-24</td>\n",
       "      <td>107.232850</td>\n",
       "    </tr>\n",
       "    <tr>\n",
       "      <th>northeast</th>\n",
       "      <td>324.0</td>\n",
       "      <td>1.455431e-19</td>\n",
       "      <td>86.747629</td>\n",
       "    </tr>\n",
       "  </tbody>\n",
       "</table>\n",
       "</div>"
      ],
      "text/plain": [
       "               n             p   test stat\n",
       "southwest  325.0  6.125298e-23  102.294059\n",
       "southeast  364.0  4.953297e-15   65.877446\n",
       "northwest  325.0  5.184209e-24  107.232850\n",
       "northeast  324.0  1.455431e-19   86.747629"
      ]
     },
     "execution_count": 21,
     "metadata": {},
     "output_type": "execute_result"
    }
   ],
   "source": [
    "# Test normality\n",
    "# Run normal test on each group\n",
    "norm_results = {}\n",
    "\n",
    "for i, data in groups.items():\n",
    "    stat, p = stats.normaltest(data)\n",
    "    norm_results[i] = {'n': len(data), 'p': p, 'test stat': stat}\n",
    "\n",
    "# Convert to dataframe\n",
    "norm_results_df = pd.DataFrame(norm_results).T\n",
    "norm_results_df"
   ]
  },
  {
   "cell_type": "code",
   "execution_count": 22,
   "id": "90a4b14c",
   "metadata": {},
   "outputs": [
    {
     "data": {
      "text/html": [
       "<div>\n",
       "<style scoped>\n",
       "    .dataframe tbody tr th:only-of-type {\n",
       "        vertical-align: middle;\n",
       "    }\n",
       "\n",
       "    .dataframe tbody tr th {\n",
       "        vertical-align: top;\n",
       "    }\n",
       "\n",
       "    .dataframe thead th {\n",
       "        text-align: right;\n",
       "    }\n",
       "</style>\n",
       "<table border=\"1\" class=\"dataframe\">\n",
       "  <thead>\n",
       "    <tr style=\"text-align: right;\">\n",
       "      <th></th>\n",
       "      <th>n</th>\n",
       "      <th>p</th>\n",
       "      <th>test stat</th>\n",
       "      <th>sig</th>\n",
       "    </tr>\n",
       "  </thead>\n",
       "  <tbody>\n",
       "    <tr>\n",
       "      <th>southwest</th>\n",
       "      <td>325.0</td>\n",
       "      <td>6.125298e-23</td>\n",
       "      <td>102.294059</td>\n",
       "      <td>True</td>\n",
       "    </tr>\n",
       "    <tr>\n",
       "      <th>southeast</th>\n",
       "      <td>364.0</td>\n",
       "      <td>4.953297e-15</td>\n",
       "      <td>65.877446</td>\n",
       "      <td>True</td>\n",
       "    </tr>\n",
       "    <tr>\n",
       "      <th>northwest</th>\n",
       "      <td>325.0</td>\n",
       "      <td>5.184209e-24</td>\n",
       "      <td>107.232850</td>\n",
       "      <td>True</td>\n",
       "    </tr>\n",
       "    <tr>\n",
       "      <th>northeast</th>\n",
       "      <td>324.0</td>\n",
       "      <td>1.455431e-19</td>\n",
       "      <td>86.747629</td>\n",
       "      <td>True</td>\n",
       "    </tr>\n",
       "  </tbody>\n",
       "</table>\n",
       "</div>"
      ],
      "text/plain": [
       "               n             p   test stat   sig\n",
       "southwest  325.0  6.125298e-23  102.294059  True\n",
       "southeast  364.0  4.953297e-15   65.877446  True\n",
       "northwest  325.0  5.184209e-24  107.232850  True\n",
       "northeast  324.0  1.455431e-19   86.747629  True"
      ]
     },
     "execution_count": 22,
     "metadata": {},
     "output_type": "execute_result"
    }
   ],
   "source": [
    "norm_results_df['sig'] = norm_results_df['p'] < 0.05\n",
    "norm_results_df"
   ]
  },
  {
   "cell_type": "code",
   "execution_count": 23,
   "id": "af71f25c",
   "metadata": {},
   "outputs": [
    {
     "data": {
      "text/plain": [
       "LeveneResult(statistic=5.559966758410606, pvalue=0.0008610590250786703)"
      ]
     },
     "execution_count": 23,
     "metadata": {},
     "output_type": "execute_result"
    }
   ],
   "source": [
    "# Testing for equal variance\n",
    "stats.levene(*groups.values())"
   ]
  },
  {
   "cell_type": "code",
   "execution_count": 24,
   "id": "1cba77cf",
   "metadata": {},
   "outputs": [
    {
     "ename": "TypeError",
     "evalue": "at least two inputs are required; got 0.",
     "output_type": "error",
     "traceback": [
      "\u001b[0;31m---------------------------------------------------------------------------\u001b[0m",
      "\u001b[0;31mTypeError\u001b[0m                                 Traceback (most recent call last)",
      "Cell \u001b[0;32mIn [24], line 2\u001b[0m\n\u001b[1;32m      1\u001b[0m \u001b[38;5;66;03m# One way ANOVA test\u001b[39;00m\n\u001b[0;32m----> 2\u001b[0m result \u001b[38;5;241m=\u001b[39m \u001b[43mstats\u001b[49m\u001b[38;5;241;43m.\u001b[39;49m\u001b[43mf_oneway\u001b[49m\u001b[43m(\u001b[49m\u001b[43m)\u001b[49m\n",
      "File \u001b[0;32m~/anaconda3/envs/dojo-env/lib/python3.9/site-packages/scipy/stats/_stats_py.py:3854\u001b[0m, in \u001b[0;36mf_oneway\u001b[0;34m(axis, *samples)\u001b[0m\n\u001b[1;32m   3726\u001b[0m \u001b[38;5;124;03m\"\"\"Perform one-way ANOVA.\u001b[39;00m\n\u001b[1;32m   3727\u001b[0m \n\u001b[1;32m   3728\u001b[0m \u001b[38;5;124;03mThe one-way ANOVA tests the null hypothesis that two or more groups have\u001b[39;00m\n\u001b[0;32m   (...)\u001b[0m\n\u001b[1;32m   3851\u001b[0m \n\u001b[1;32m   3852\u001b[0m \u001b[38;5;124;03m\"\"\"\u001b[39;00m\n\u001b[1;32m   3853\u001b[0m \u001b[38;5;28;01mif\u001b[39;00m \u001b[38;5;28mlen\u001b[39m(samples) \u001b[38;5;241m<\u001b[39m \u001b[38;5;241m2\u001b[39m:\n\u001b[0;32m-> 3854\u001b[0m     \u001b[38;5;28;01mraise\u001b[39;00m \u001b[38;5;167;01mTypeError\u001b[39;00m(\u001b[38;5;124m'\u001b[39m\u001b[38;5;124mat least two inputs are required;\u001b[39m\u001b[38;5;124m'\u001b[39m\n\u001b[1;32m   3855\u001b[0m                     \u001b[38;5;124mf\u001b[39m\u001b[38;5;124m'\u001b[39m\u001b[38;5;124m got \u001b[39m\u001b[38;5;132;01m{\u001b[39;00m\u001b[38;5;28mlen\u001b[39m(samples)\u001b[38;5;132;01m}\u001b[39;00m\u001b[38;5;124m.\u001b[39m\u001b[38;5;124m'\u001b[39m)\n\u001b[1;32m   3857\u001b[0m samples \u001b[38;5;241m=\u001b[39m [np\u001b[38;5;241m.\u001b[39masarray(sample, dtype\u001b[38;5;241m=\u001b[39m\u001b[38;5;28mfloat\u001b[39m) \u001b[38;5;28;01mfor\u001b[39;00m sample \u001b[38;5;129;01min\u001b[39;00m samples]\n\u001b[1;32m   3859\u001b[0m \u001b[38;5;66;03m# ANOVA on N groups, each in its own array\u001b[39;00m\n",
      "\u001b[0;31mTypeError\u001b[0m: at least two inputs are required; got 0."
     ]
    }
   ],
   "source": [
    "# One way ANOVA test\n",
    "result = stats.f_oneway()"
   ]
  }
 ],
 "metadata": {
  "kernelspec": {
   "display_name": "Python (dojo-env)",
   "language": "python",
   "name": "dojo-env"
  },
  "language_info": {
   "codemirror_mode": {
    "name": "ipython",
    "version": 3
   },
   "file_extension": ".py",
   "mimetype": "text/x-python",
   "name": "python",
   "nbconvert_exporter": "python",
   "pygments_lexer": "ipython3",
   "version": "3.9.15"
  },
  "toc": {
   "base_numbering": 1,
   "nav_menu": {},
   "number_sections": true,
   "sideBar": true,
   "skip_h1_title": false,
   "title_cell": "Table of Contents",
   "title_sidebar": "Contents",
   "toc_cell": false,
   "toc_position": {},
   "toc_section_display": true,
   "toc_window_display": false
  }
 },
 "nbformat": 4,
 "nbformat_minor": 5
}
